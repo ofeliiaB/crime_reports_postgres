{
 "cells": [
  {
   "cell_type": "markdown",
   "metadata": {},
   "source": [
    "# Building a Postgres DB for Crime Reports"
   ]
  },
  {
   "cell_type": "markdown",
   "metadata": {},
   "source": [
    ">The project demonstrates the process of creating an optimal database named crimes_db to store data on crime reports primarily available in the CSV format."
   ]
  },
  {
   "cell_type": "markdown",
   "metadata": {},
   "source": [
    "## 1. Setup"
   ]
  },
  {
   "cell_type": "code",
   "execution_count": 4,
   "metadata": {},
   "outputs": [],
   "source": [
    "!pip3 install psycopg2-binary"
   ]
  },
  {
   "cell_type": "code",
   "execution_count": 43,
   "metadata": {},
   "outputs": [],
   "source": [
    "import psycopg2\n",
    "import csv\n",
    "import pandas as pd"
   ]
  },
  {
   "cell_type": "markdown",
   "metadata": {},
   "source": [
    ">Connecting to the default postgres db with default postgres user"
   ]
  },
  {
   "cell_type": "code",
   "execution_count": 9,
   "metadata": {},
   "outputs": [],
   "source": [
    "conn = psycopg2.connect(\"dbname=postgres user=postgres\")\n",
    "cur = conn.cursor()"
   ]
  },
  {
   "cell_type": "markdown",
   "metadata": {},
   "source": [
    ">Creating a new database crime_db"
   ]
  },
  {
   "cell_type": "code",
   "execution_count": 10,
   "metadata": {},
   "outputs": [],
   "source": [
    "conn.autocommit = True\n",
    "cur.execute(\"CREATE DATABASE crime_db;\")\n",
    "conn.close()"
   ]
  },
  {
   "cell_type": "markdown",
   "metadata": {},
   "source": [
    ">Connecting to the new db and creating the schema"
   ]
  },
  {
   "cell_type": "code",
   "execution_count": 12,
   "metadata": {},
   "outputs": [],
   "source": [
    "conn = psycopg2.connect(\"dbname=crime_db user=postgres\")\n",
    "cur = conn.cursor()\n",
    "cur.execute(\"CREATE SCHEMA crimes;\")"
   ]
  },
  {
   "cell_type": "markdown",
   "metadata": {},
   "source": [
    ">Reading the data"
   ]
  },
  {
   "cell_type": "code",
   "execution_count": 58,
   "metadata": {},
   "outputs": [
    {
     "name": "stdout",
     "output_type": "stream",
     "text": [
      "Headers:  incident_number,offense_code,description,date,day_of_the_week,lat,long\n",
      "\n",
      "First Row:  1,619,LARCENY ALL OTHERS,2018-09-02,Sunday,42.35779134,-71.13937053\n",
      "\n"
     ]
    }
   ],
   "source": [
    "with open(\"data/boston.csv\", \"r\") as f:\n",
    "    reader = csv.reader(f)\n",
    "    col_headers = next(f)\n",
    "    first_row = next(f)\n",
    "print(\"Headers: \",col_headers)\n",
    "print(\"First Row: \",first_row)\n",
    "# converting col headers to a list\n",
    "col_headers = col_headers.split(\",\")"
   ]
  },
  {
   "cell_type": "markdown",
   "metadata": {},
   "source": [
    "## 2. ETL Process"
   ]
  },
  {
   "cell_type": "markdown",
   "metadata": {},
   "source": [
    "### 2.1 Finding Optimal Data Types for PostgreSQL"
   ]
  },
  {
   "cell_type": "markdown",
   "metadata": {},
   "source": [
    ">The function get_unique() computes unique values for a given column. The aim of the method is to help determine the maximum length of existing text values and check whether an enumerated data type can be used."
   ]
  },
  {
   "cell_type": "code",
   "execution_count": 78,
   "metadata": {},
   "outputs": [],
   "source": [
    "def get_unique(file, column_index):\n",
    "    f = pd.read_csv(file)\n",
    "    col = f.iloc[:,column_index]\n",
    "    output = set(col)\n",
    "    return output"
   ]
  },
  {
   "cell_type": "markdown",
   "metadata": {},
   "source": [
    ">Computing the number of unique values for each column"
   ]
  },
  {
   "cell_type": "code",
   "execution_count": 79,
   "metadata": {},
   "outputs": [
    {
     "name": "stdout",
     "output_type": "stream",
     "text": [
      "0   incident_number  # of unique values:  298329\n",
      "1   offense_code  # of unique values:  219\n",
      "2   description  # of unique values:  239\n",
      "3   date  # of unique values:  1177\n",
      "4   day_of_the_week  # of unique values:  7\n",
      "5   lat  # of unique values:  18177\n",
      "6   long\n",
      "  # of unique values:  18177\n"
     ]
    }
   ],
   "source": [
    "for i, col in enumerate(col_headers):\n",
    "    data = get_unique(\"data/boston.csv\", i)\n",
    "    length = len(data)\n",
    "    print(i, \" \", col, \" # of unique values: \",length)"
   ]
  },
  {
   "cell_type": "markdown",
   "metadata": {},
   "source": [
    ">Computing the value with maximum length for each column"
   ]
  },
  {
   "cell_type": "code",
   "execution_count": 77,
   "metadata": {},
   "outputs": [
    {
     "data": {
      "text/plain": [
       "{'description': 58, 'date': 10, 'day_of_the_week': 9}"
      ]
     },
     "execution_count": 77,
     "metadata": {},
     "output_type": "execute_result"
    }
   ],
   "source": [
    "out = dict()\n",
    "for i, col in enumerate(col_headers):\n",
    "    max_length = 0\n",
    "    data = get_unique(\"data/boston.csv\", i)\n",
    "    for d in data:\n",
    "        if isinstance(d, str):\n",
    "            l = len(d)\n",
    "            if max_length < l:\n",
    "                max_length = l\n",
    "            out.update({col:max_length})\n",
    "out      "
   ]
  },
  {
   "cell_type": "markdown",
   "metadata": {},
   "source": [
    "> **Outcomes**\n",
    ">- The longest value in the **Day of the week** column contains **9** characters, however, the column has only **7 unique** values, therefore, it can be converted to an **enumerated** column.\n",
    ">- The longest value in the **Description column** contains **58** characters. An optimal type could be **VARCHAR(100)**.\n",
    ">- The **date** column can be converted to **date** type.\n",
    ">- The rest of columns shall be numeric."
   ]
  },
  {
   "cell_type": "markdown",
   "metadata": {},
   "source": [
    "### 2.2 Building Tables in PostgreSQL"
   ]
  },
  {
   "cell_type": "code",
   "execution_count": 84,
   "metadata": {},
   "outputs": [
    {
     "data": {
      "text/plain": [
       "['incident_number',\n",
       " 'offense_code',\n",
       " 'description',\n",
       " 'date',\n",
       " 'day_of_the_week',\n",
       " 'lat',\n",
       " 'long\\n']"
      ]
     },
     "execution_count": 84,
     "metadata": {},
     "output_type": "execute_result"
    }
   ],
   "source": [
    "col_headers"
   ]
  },
  {
   "cell_type": "code",
   "execution_count": 90,
   "metadata": {},
   "outputs": [
    {
     "data": {
      "text/plain": [
       "'1,619,LARCENY ALL OTHERS,2018-09-02,Sunday,42.35779134,-71.13937053\\n'"
      ]
     },
     "execution_count": 90,
     "metadata": {},
     "output_type": "execute_result"
    }
   ],
   "source": [
    "first_row"
   ]
  },
  {
   "cell_type": "markdown",
   "metadata": {},
   "source": [
    ">Creating ENUM type for days of the week"
   ]
  },
  {
   "cell_type": "code",
   "execution_count": 83,
   "metadata": {},
   "outputs": [],
   "source": [
    "cur.execute(\"\"\"\n",
    "CREATE TYPE enum_weekday\n",
    "AS ENUM ('Monday', 'Tuesday', 'Wednesday', 'Thursday', 'Friday', 'Saturday', 'Sunday')\n",
    "\"\"\")\n",
    "conn.commit()"
   ]
  },
  {
   "cell_type": "markdown",
   "metadata": {},
   "source": [
    ">Building the table boston_crimes with appropriate types"
   ]
  },
  {
   "cell_type": "code",
   "execution_count": 86,
   "metadata": {},
   "outputs": [],
   "source": [
    "cur.execute(\"\"\"\n",
    "CREATE TABLE crimes.boston_crimes (\n",
    "    incident_number integer PRIMARY KEY,\n",
    "    offense_code integer,\n",
    "    description varchar(100),\n",
    "    date date,\n",
    "    day_of_the_week enum_weekday,\n",
    "    lat double precision,\n",
    "    long double precision\n",
    ");\n",
    "\"\"\")\n",
    "conn.commit()"
   ]
  },
  {
   "cell_type": "code",
   "execution_count": 89,
   "metadata": {},
   "outputs": [
    {
     "data": {
      "text/plain": [
       "[('incident_number',),\n",
       " ('offense_code',),\n",
       " ('description',),\n",
       " ('date',),\n",
       " ('day_of_the_week',),\n",
       " ('lat',),\n",
       " ('long',)]"
      ]
     },
     "execution_count": 89,
     "metadata": {},
     "output_type": "execute_result"
    }
   ],
   "source": [
    "cur.execute(\"SELECT column_name FROM INFORMATION_SCHEMA.COLUMNS WHERE TABLE_NAME = 'boston_crimes'\")\n",
    "check_results = cur.fetchall()\n",
    "check_results"
   ]
  },
  {
   "cell_type": "markdown",
   "metadata": {},
   "source": [
    "### 2.3 Loading the Data into DB"
   ]
  },
  {
   "cell_type": "code",
   "execution_count": 91,
   "metadata": {},
   "outputs": [],
   "source": [
    "with open(\"data/boston.csv\", \"r\") as f:\n",
    "    cur.copy_expert(\"COPY crimes.boston_crimes FROM STDIN WITH CSV HEADER;\", f)\n",
    "conn.commit()"
   ]
  },
  {
   "cell_type": "code",
   "execution_count": 92,
   "metadata": {},
   "outputs": [
    {
     "data": {
      "text/plain": [
       "[(1,\n",
       "  619,\n",
       "  'LARCENY ALL OTHERS',\n",
       "  datetime.date(2018, 9, 2),\n",
       "  'Sunday',\n",
       "  42.35779134,\n",
       "  -71.13937053),\n",
       " (2,\n",
       "  1402,\n",
       "  'VANDALISM',\n",
       "  datetime.date(2018, 8, 21),\n",
       "  'Tuesday',\n",
       "  42.30682138,\n",
       "  -71.06030035),\n",
       " (3,\n",
       "  3410,\n",
       "  'TOWED MOTOR VEHICLE',\n",
       "  datetime.date(2018, 9, 3),\n",
       "  'Monday',\n",
       "  42.34658879,\n",
       "  -71.07242943),\n",
       " (4,\n",
       "  3114,\n",
       "  'INVESTIGATE PROPERTY',\n",
       "  datetime.date(2018, 9, 3),\n",
       "  'Monday',\n",
       "  42.33418175,\n",
       "  -71.07866441),\n",
       " (5,\n",
       "  3114,\n",
       "  'INVESTIGATE PROPERTY',\n",
       "  datetime.date(2018, 9, 3),\n",
       "  'Monday',\n",
       "  42.27536542,\n",
       "  -71.09036101)]"
      ]
     },
     "execution_count": 92,
     "metadata": {},
     "output_type": "execute_result"
    }
   ],
   "source": [
    "cur.execute(\"SELECT * FROM crimes.boston_crimes LIMIT 5;\")\n",
    "check_results = cur.fetchall()\n",
    "check_results"
   ]
  },
  {
   "cell_type": "markdown",
   "metadata": {},
   "source": [
    "## 3. User & Groups Administration"
   ]
  },
  {
   "cell_type": "markdown",
   "metadata": {},
   "source": [
    "### 3.1 Groups"
   ]
  },
  {
   "cell_type": "markdown",
   "metadata": {},
   "source": [
    ">Following the least privilege principle the first step is to revoke all permissions from the **public group**."
   ]
  },
  {
   "cell_type": "code",
   "execution_count": 105,
   "metadata": {},
   "outputs": [],
   "source": [
    "cur.execute(\"\"\"\n",
    "    REVOKE ALL ON SCHEMA public FROM public; \n",
    "\"\"\")\n",
    "cur.execute(\"\"\"\n",
    "    REVOKE ALL ON DATABASE crime_db FROM public; \n",
    "\"\"\")\n",
    "conn.commit()"
   ]
  },
  {
   "cell_type": "markdown",
   "metadata": {},
   "source": [
    ">Creating new User Groups and assigning corresponding roles"
   ]
  },
  {
   "cell_type": "code",
   "execution_count": 106,
   "metadata": {},
   "outputs": [],
   "source": [
    "cur.execute(\"\"\"\n",
    "    CREATE GROUP readonly NOLOGIN;\n",
    "\"\"\")\n",
    "cur.execute(\"\"\"\n",
    "    CREATE GROUP readwrite NOLOGIN;\n",
    "\"\"\")\n",
    "conn.commit()"
   ]
  },
  {
   "cell_type": "markdown",
   "metadata": {},
   "source": [
    ">Granting access to the database and schema usage rights to both groups"
   ]
  },
  {
   "cell_type": "code",
   "execution_count": 107,
   "metadata": {},
   "outputs": [],
   "source": [
    "cur.execute(\"\"\"\n",
    "    GRANT CONNECT ON DATABASE crime_db TO readonly;\n",
    "\"\"\")\n",
    "cur.execute(\"\"\"\n",
    "    GRANT CONNECT ON DATABASE crime_db TO readwrite;\n",
    "\"\"\")\n",
    "cur.execute(\"\"\"\n",
    "    GRANT USAGE ON SCHEMA crimes TO readonly;\n",
    "\"\"\")\n",
    "cur.execute(\"\"\"\n",
    "    GRANT USAGE ON SCHEMA crimes TO readwrite;\n",
    "\"\"\")\n",
    "conn.commit()"
   ]
  },
  {
   "cell_type": "markdown",
   "metadata": {},
   "source": [
    ">Granting specific group privileges"
   ]
  },
  {
   "cell_type": "code",
   "execution_count": 108,
   "metadata": {},
   "outputs": [],
   "source": [
    "cur.execute(\"\"\"\n",
    "    GRANT SELECT ON ALL TABLES IN SCHEMA crimes TO readonly;\n",
    "\"\"\")\n",
    "cur.execute(\"\"\"\n",
    "    GRANT SELECT, INSERT, DELETE, UPDATE ON ALL TABLES IN SCHEMA crimes TO readwrite;\n",
    "\"\"\")\n",
    "conn.commit()"
   ]
  },
  {
   "cell_type": "markdown",
   "metadata": {},
   "source": [
    "### 3.2 Users"
   ]
  },
  {
   "cell_type": "markdown",
   "metadata": {},
   "source": [
    ">Creating users and assigning them to groups"
   ]
  },
  {
   "cell_type": "code",
   "execution_count": 109,
   "metadata": {},
   "outputs": [],
   "source": [
    "cur.execute(\"\"\"\n",
    "    CREATE USER data_analyst WITH PASSWORD 'secret1';\n",
    "\"\"\")\n",
    "cur.execute(\"\"\"\n",
    "    GRANT readonly TO data_analyst;\n",
    "\"\"\")\n",
    "conn.commit()"
   ]
  },
  {
   "cell_type": "code",
   "execution_count": 110,
   "metadata": {},
   "outputs": [],
   "source": [
    "cur.execute(\"\"\"\n",
    "    CREATE USER data_scientist WITH PASSWORD 'secret2';\n",
    "\"\"\")\n",
    "cur.execute(\"\"\"\n",
    "    GRANT readwrite TO data_analyst;\n",
    "\"\"\")\n",
    "conn.commit()"
   ]
  },
  {
   "cell_type": "markdown",
   "metadata": {},
   "source": [
    "### 3.3 Tests"
   ]
  },
  {
   "cell_type": "code",
   "execution_count": 111,
   "metadata": {},
   "outputs": [
    {
     "data": {
      "text/plain": [
       "[('readonly', 'SELECT')]"
      ]
     },
     "execution_count": 111,
     "metadata": {},
     "output_type": "execute_result"
    }
   ],
   "source": [
    "cur.execute(\"\"\"\n",
    "    SELECT grantee, privilege_type\n",
    "    FROM information_schema.table_privileges\n",
    "    WHERE grantee = 'readonly';\n",
    "\"\"\")\n",
    "readonly_results = cur.fetchall()\n",
    "readonly_results"
   ]
  },
  {
   "cell_type": "code",
   "execution_count": 112,
   "metadata": {},
   "outputs": [
    {
     "data": {
      "text/plain": [
       "[('readwrite', 'INSERT'),\n",
       " ('readwrite', 'SELECT'),\n",
       " ('readwrite', 'UPDATE'),\n",
       " ('readwrite', 'DELETE')]"
      ]
     },
     "execution_count": 112,
     "metadata": {},
     "output_type": "execute_result"
    }
   ],
   "source": [
    "cur.execute(\"\"\"\n",
    "    SELECT grantee, privilege_type\n",
    "    FROM information_schema.table_privileges\n",
    "    WHERE grantee = 'readwrite';\n",
    "\"\"\")\n",
    "readwrite_results = cur.fetchall()\n",
    "readwrite_results"
   ]
  }
 ],
 "metadata": {
  "kernelspec": {
   "display_name": "Python 3",
   "language": "python",
   "name": "python3"
  },
  "language_info": {
   "codemirror_mode": {
    "name": "ipython",
    "version": 3
   },
   "file_extension": ".py",
   "mimetype": "text/x-python",
   "name": "python",
   "nbconvert_exporter": "python",
   "pygments_lexer": "ipython3",
   "version": "3.9.1"
  }
 },
 "nbformat": 4,
 "nbformat_minor": 2
}
