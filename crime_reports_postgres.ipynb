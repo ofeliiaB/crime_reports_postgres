{
 "cells": [
  {
   "cell_type": "markdown",
   "metadata": {},
   "source": [
    "# Building a Postgres DB for Crime Reports"
   ]
  },
  {
   "cell_type": "markdown",
   "metadata": {},
   "source": [
    ">The project demonstrates the process of creating an optimal database named crimes_db to store data on crime reports primarily available in the CSV format."
   ]
  },
  {
   "cell_type": "markdown",
   "metadata": {},
   "source": [
    "## 1. Setup"
   ]
  },
  {
   "cell_type": "code",
   "execution_count": 4,
   "metadata": {},
   "outputs": [],
   "source": [
    "!pip3 install psycopg2-binary"
   ]
  },
  {
   "cell_type": "code",
   "execution_count": 43,
   "metadata": {},
   "outputs": [],
   "source": [
    "import psycopg2\n",
    "import csv\n",
    "import pandas as pd"
   ]
  },
  {
   "cell_type": "markdown",
   "metadata": {},
   "source": [
    ">Connecting to the default postgres db with default postgres user"
   ]
  },
  {
   "cell_type": "code",
   "execution_count": 9,
   "metadata": {},
   "outputs": [],
   "source": [
    "conn = psycopg2.connect(\"dbname=postgres user=postgres\")\n",
    "cur = conn.cursor()"
   ]
  },
  {
   "cell_type": "markdown",
   "metadata": {},
   "source": [
    ">Creating a new database crime_db"
   ]
  },
  {
   "cell_type": "code",
   "execution_count": 10,
   "metadata": {},
   "outputs": [],
   "source": [
    "conn.autocommit = True\n",
    "cur.execute(\"CREATE DATABASE crime_db;\")\n",
    "conn.close()"
   ]
  },
  {
   "cell_type": "markdown",
   "metadata": {},
   "source": [
    ">Connecting to the new db and creating the schema"
   ]
  },
  {
   "cell_type": "code",
   "execution_count": 12,
   "metadata": {},
   "outputs": [],
   "source": [
    "conn = psycopg2.connect(\"dbname=crime_db user=postgres\")\n",
    "cur = conn.cursor()\n",
    "cur.execute(\"CREATE SCHEMA crimes;\")"
   ]
  },
  {
   "cell_type": "markdown",
   "metadata": {},
   "source": [
    ">Reading the data"
   ]
  },
  {
   "cell_type": "code",
   "execution_count": 58,
   "metadata": {},
   "outputs": [
    {
     "name": "stdout",
     "output_type": "stream",
     "text": [
      "Headers:  incident_number,offense_code,description,date,day_of_the_week,lat,long\n",
      "\n",
      "First Row:  1,619,LARCENY ALL OTHERS,2018-09-02,Sunday,42.35779134,-71.13937053\n",
      "\n"
     ]
    }
   ],
   "source": [
    "with open(\"data/boston.csv\", \"r\") as f:\n",
    "    reader = csv.reader(f)\n",
    "    col_headers = next(f)\n",
    "    first_row = next(f)\n",
    "print(\"Headers: \",col_headers)\n",
    "print(\"First Row: \",first_row)\n",
    "# converting col headers to a list\n",
    "col_headers = col_headers.split(\",\")"
   ]
  },
  {
   "cell_type": "markdown",
   "metadata": {},
   "source": [
    "## 2. Tables"
   ]
  },
  {
   "cell_type": "markdown",
   "metadata": {},
   "source": [
    "### 2.1 Defining Optimal Data Types"
   ]
  },
  {
   "cell_type": "markdown",
   "metadata": {},
   "source": [
    ">The function get_unique() computes unique values for a given column. The aim of the method is to help determine the maximum length of existing text values and check whether an enumerated data type can be used."
   ]
  },
  {
   "cell_type": "code",
   "execution_count": 64,
   "metadata": {},
   "outputs": [],
   "source": [
    "def get_unique(file, row_index):\n",
    "    f = pd.read_csv(file)\n",
    "    row = f.iloc[:,row_index]\n",
    "    output = set(row)\n",
    "    return output"
   ]
  },
  {
   "cell_type": "markdown",
   "metadata": {},
   "source": [
    "> Computing the number of unique values for each column"
   ]
  },
  {
   "cell_type": "code",
   "execution_count": 66,
   "metadata": {},
   "outputs": [
    {
     "name": "stdout",
     "output_type": "stream",
     "text": [
      "0   incident_number  # of unique values:  298329\n",
      "1   offense_code  # of unique values:  219\n",
      "2   description  # of unique values:  239\n",
      "3   date  # of unique values:  1177\n",
      "4   day_of_the_week  # of unique values:  7\n",
      "5   lat  # of unique values:  18177\n",
      "6   long\n",
      "  # of unique values:  18177\n"
     ]
    }
   ],
   "source": [
    "for i, col in enumerate(col_headers):\n",
    "    data = get_unique(\"data/boston.csv\", i)\n",
    "    length = len(data)\n",
    "    print(i, \" \", col, \" # of unique values: \",length)"
   ]
  },
  {
   "cell_type": "markdown",
   "metadata": {},
   "source": [
    "> Computing the value with maximum length for each column"
   ]
  },
  {
   "cell_type": "code",
   "execution_count": 77,
   "metadata": {},
   "outputs": [
    {
     "data": {
      "text/plain": [
       "{'description': 58, 'date': 10, 'day_of_the_week': 9}"
      ]
     },
     "execution_count": 77,
     "metadata": {},
     "output_type": "execute_result"
    }
   ],
   "source": [
    "out = dict()\n",
    "for i, col in enumerate(col_headers):\n",
    "    max_length = 0\n",
    "    data = get_unique(\"data/boston.csv\", i)\n",
    "    for d in data:\n",
    "        if isinstance(d, str):\n",
    "            l = len(d)\n",
    "            if max_length < l:\n",
    "                max_length = l\n",
    "            out.update({col:max_length})\n",
    "out      "
   ]
  },
  {
   "cell_type": "code",
   "execution_count": null,
   "metadata": {},
   "outputs": [],
   "source": []
  },
  {
   "cell_type": "code",
   "execution_count": null,
   "metadata": {},
   "outputs": [],
   "source": []
  },
  {
   "cell_type": "code",
   "execution_count": null,
   "metadata": {},
   "outputs": [],
   "source": []
  },
  {
   "cell_type": "code",
   "execution_count": null,
   "metadata": {},
   "outputs": [],
   "source": []
  },
  {
   "cell_type": "code",
   "execution_count": null,
   "metadata": {},
   "outputs": [],
   "source": []
  },
  {
   "cell_type": "code",
   "execution_count": null,
   "metadata": {},
   "outputs": [],
   "source": []
  }
 ],
 "metadata": {
  "kernelspec": {
   "display_name": "Python 3",
   "language": "python",
   "name": "python3"
  },
  "language_info": {
   "codemirror_mode": {
    "name": "ipython",
    "version": 3
   },
   "file_extension": ".py",
   "mimetype": "text/x-python",
   "name": "python",
   "nbconvert_exporter": "python",
   "pygments_lexer": "ipython3",
   "version": "3.9.1"
  }
 },
 "nbformat": 4,
 "nbformat_minor": 2
}
